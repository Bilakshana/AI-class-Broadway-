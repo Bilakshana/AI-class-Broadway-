{
 "cells": [
  {
   "cell_type": "markdown",
   "id": "e063f803",
   "metadata": {},
   "source": [
    "Linear regression is one of the most fundamental and widely used algorithms in machine learning. It is used to model the relationship between a dependent variable (target) and one or more independent variables (features).\n",
    "\n",
    "Linear regression aims to find the best-fitting straight line (or hyperplane in higher dimensions) that minimizes the error between the predicted values and the actual values.\n",
    "\n",
    "Simple Linear Regression: y=mx+c\n",
    "\n",
    "Multiple Linear Regression: y=ß0+ß1x1+ß2x2+...+ßnxn\n",
    "\n",
    "Where:\n",
    "* y is the dependent variable (target)\n",
    "    * x1, x2, ... are the independent variables (features)\n",
    "\n",
    "    * ß0 is the intercept\n",
    "    \n",
    "    * ß1,ß2, ... are the coefficients (weights)"
   ]
  },
  {
   "cell_type": "code",
   "execution_count": 1,
   "id": "75c6c8d5-79c6-44f5-94d2-a7df4c686303",
   "metadata": {},
   "outputs": [
    {
     "name": "stdout",
     "output_type": "stream",
     "text": [
      "Requirement already satisfied: numpy in /opt/anaconda3/lib/python3.13/site-packages (2.1.3)\n"
     ]
    }
   ],
   "source": [
    "!pip install numpy"
   ]
  },
  {
   "cell_type": "code",
   "execution_count": 2,
   "id": "4dfb5108",
   "metadata": {},
   "outputs": [],
   "source": [
    "import numpy as np\n",
    "import pandas as pd\n",
    "import matplotlib.pyplot as plt\n",
    "from sklearn.model_selection import train_test_split\n",
    "from sklearn.linear_model import LinearRegression\n",
    "from sklearn.metrics import mean_squared_error,r2_score"
   ]
  },
  {
   "cell_type": "code",
   "execution_count": null,
   "id": "35ce32ed",
   "metadata": {},
   "outputs": [],
   "source": [
    "# Generative sample data\n",
    "np.random.seed(42)\n",
    "X=2*np.random.rand(100,1)"
   ]
  }
 ],
 "metadata": {
  "kernelspec": {
   "display_name": "base",
   "language": "python",
   "name": "python3"
  },
  "language_info": {
   "codemirror_mode": {
    "name": "ipython",
    "version": 3
   },
   "file_extension": ".py",
   "mimetype": "text/x-python",
   "name": "python",
   "nbconvert_exporter": "python",
   "pygments_lexer": "ipython3",
   "version": "3.13.5"
  }
 },
 "nbformat": 4,
 "nbformat_minor": 5
}
